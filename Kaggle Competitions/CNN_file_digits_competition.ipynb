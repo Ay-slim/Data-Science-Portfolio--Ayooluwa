{
 "cells": [
  {
   "cell_type": "code",
   "execution_count": 11,
   "metadata": {},
   "outputs": [],
   "source": [
    "import pandas as pd\n",
    "import numpy as np\n",
    "import matplotlib.pyplot as plt\n",
    "import matplotlib.image as mpimg\n",
    "import seaborn as sns\n",
    "%matplotlib inline\n",
    "\n",
    "np.random.seed(2)\n",
    "\n",
    "from sklearn.model_selection import train_test_split\n",
    "from sklearn.metrics import confusion_matrix\n",
    "import itertools\n",
    "\n",
    "#from tensorflow.utils.np_utils import to_categorical # convert to one-hot-encoding\n",
    "from tensorflow.keras.models import Sequential\n",
    "from tensorflow.keras.layers import Dense, Dropout, Flatten, Conv2D, MaxPool2D\n",
    "from tensorflow.keras.optimizers import RMSprop\n",
    "from tensorflow.keras.preprocessing.image import ImageDataGenerator\n",
    "from tensorflow.keras.callbacks import ReduceLROnPlateau\n",
    "\n",
    "\n",
    "sns.set(style='white', context='notebook', palette='deep')"
   ]
  },
  {
   "cell_type": "code",
   "execution_count": 4,
   "metadata": {},
   "outputs": [],
   "source": [
    "train = pd.read_csv('train.csv')\n",
    "test = pd.read_csv('test.csv')\n"
   ]
  },
  {
   "cell_type": "code",
   "execution_count": 5,
   "metadata": {},
   "outputs": [
    {
     "data": {
      "text/plain": [
       "1    4684\n",
       "7    4401\n",
       "3    4351\n",
       "9    4188\n",
       "2    4177\n",
       "6    4137\n",
       "0    4132\n",
       "4    4072\n",
       "8    4063\n",
       "5    3795\n",
       "Name: label, dtype: int64"
      ]
     },
     "execution_count": 5,
     "metadata": {},
     "output_type": "execute_result"
    },
    {
     "data": {
      "image/png": "[encoded data removed]",
      "text/plain": [
       "<Figure size 432x288 with 1 Axes>"
      ]
     },
     "metadata": {},
     "output_type": "display_data"
    }
   ],
   "source": [
    "Y_train = train[\"label\"]\n",
    "\n",
    "# Drop 'label' column\n",
    "X_train = train.drop(labels = [\"label\"],axis = 1) \n",
    "\n",
    "# free some space\n",
    "del train \n",
    "\n",
    "g = sns.countplot(Y_train)\n",
    "\n",
    "Y_train.value_counts()"
   ]
  },
  {
   "cell_type": "code",
   "execution_count": 6,
   "metadata": {},
   "outputs": [
    {
     "data": {
      "text/plain": [
       "count       784\n",
       "unique        1\n",
       "top       False\n",
       "freq        784\n",
       "dtype: object"
      ]
     },
     "execution_count": 6,
     "metadata": {},
     "output_type": "execute_result"
    }
   ],
   "source": [
    "# Check the data\n",
    "X_train.isnull().any().describe()"
   ]
  },
  {
   "cell_type": "code",
   "execution_count": 7,
   "metadata": {},
   "outputs": [],
   "source": [
    "X_train = X_train / 255.0\n",
    "test = test / 255.0"
   ]
  },
  {
   "cell_type": "code",
   "execution_count": 8,
   "metadata": {},
   "outputs": [],
   "source": [
    "# Reshape image in 3 dimensions (height = 28px, width = 28px , canal = 1)\n",
    "X_train = X_train.values.reshape(-1,28,28,1)\n",
    "test = test.values.reshape(-1,28,28,1)"
   ]
  },
  {
   "cell_type": "code",
   "execution_count": 12,
   "metadata": {},
   "outputs": [],
   "source": [
    "# Encode labels to one hot vectors (ex : 2 -> [0,0,1,0,0,0,0,0,0,0])\n",
    "train_y_list = list(Y_train)\n",
    "\n",
    "train_y_ = np.zeros((len(train_y_list), 10))\n",
    "\n",
    "for i in range(len(train_y_list)):\n",
    "    train_y_[i, train_y_list[i]] = 1\n",
    "    \n",
    "train_y_DF = pd.DataFrame(train_y_, columns = [0, 1, 2, 3, 4, 5, 6, 7, 8, 9])\n",
    "\n",
    "Y_train=train_y_DF.values"
   ]
  },
  {
   "cell_type": "code",
   "execution_count": 14,
   "metadata": {},
   "outputs": [],
   "source": [
    "# Set the random seed\n",
    "random_seed = 2\n",
    "\n",
    "# Split the train and the validation set for the fitting\n",
    "X_train, X_val, Y_train, Y_val = train_test_split(X_train, Y_train, test_size = 0.1, random_state=random_seed)"
   ]
  },
  {
   "cell_type": "code",
   "execution_count": 15,
   "metadata": {},
   "outputs": [
    {
     "data": {
      "image/png": "[encoded data removed]",
      "text/plain": [
       "<Figure size 432x288 with 1 Axes>"
      ]
     },
     "metadata": {},
     "output_type": "display_data"
    }
   ],
   "source": [
    "# Some examples\n",
    "g = plt.imshow(X_train[0][:,:,0])"
   ]
  },
  {
   "cell_type": "code",
   "execution_count": 16,
   "metadata": {},
   "outputs": [
    {
     "name": "stdout",
     "output_type": "stream",
     "text": [
      "WARNING:tensorflow:From C:\\Users\\user\\Anaconda3\\lib\\site-packages\\tensorflow_core\\python\\ops\\resource_variable_ops.py:1630: calling BaseResourceVariable.__init__ (from tensorflow.python.ops.resource_variable_ops) with constraint is deprecated and will be removed in a future version.\n",
      "Instructions for updating:\n",
      "If using Keras pass *_constraint arguments to layers.\n"
     ]
    }
   ],
   "source": [
    "# my CNN architechture is In -> [[Conv2D->relu]*2 -> MaxPool2D -> Dropout]*2 -> Flatten -> Dense -> Dropout -> Out\n",
    "\n",
    "model = Sequential()\n",
    "\n",
    "model.add(Conv2D(filters = 32, kernel_size = (5,5),padding = 'Same', \n",
    "                 activation ='relu', input_shape = (28,28,1)))\n",
    "model.add(Conv2D(filters = 32, kernel_size = (5,5),padding = 'Same', \n",
    "                 activation ='relu'))\n",
    "model.add(MaxPool2D(pool_size=(2,2)))\n",
    "model.add(Dropout(0.25))\n",
    "\n",
    "\n",
    "model.add(Conv2D(filters = 64, kernel_size = (3,3),padding = 'Same', \n",
    "                 activation ='relu'))\n",
    "\n",
    "model.add(Conv2D(filters = 64, kernel_size = (3,3),padding = 'Same', \n",
    "                 activation ='relu'))\n",
    "model.add(MaxPool2D(pool_size=(2,2), strides=(2,2)))\n",
    "model.add(Dropout(0.25))\n",
    "\n",
    "\n",
    "model.add(Flatten())\n",
    "model.add(Dense(256, activation = \"relu\"))\n",
    "model.add(Dropout(0.5))\n",
    "model.add(Dense(10, activation = \"softmax\"))\n"
   ]
  },
  {
   "cell_type": "code",
   "execution_count": 17,
   "metadata": {},
   "outputs": [],
   "source": [
    "# Define the optimizer\n",
    "optimizer = RMSprop(lr=0.001, rho=0.9, epsilon=1e-08, decay=0.0)\n",
    "# Compile the model\n",
    "model.compile(optimizer = optimizer , loss = \"categorical_crossentropy\", metrics=[\"accuracy\"])"
   ]
  },
  {
   "cell_type": "code",
   "execution_count": 18,
   "metadata": {},
   "outputs": [],
   "source": [
    "# Set a learning rate annealer\n",
    "learning_rate_reduction = ReduceLROnPlateau(monitor='val_acc', \n",
    "                                            patience=3, \n",
    "                                            verbose=1, \n",
    "                                            factor=0.5, \n",
    "                                            min_lr=0.00001)"
   ]
  },
  {
   "cell_type": "code",
   "execution_count": 19,
   "metadata": {},
   "outputs": [],
   "source": [
    "epochs = 30 # Turn epochs to 30 to get 0.9967 accuracy\n",
    "batch_size = 86"
   ]
  },
  {
   "cell_type": "code",
   "execution_count": 20,
   "metadata": {},
   "outputs": [],
   "source": [
    "# Without data augmentation i obtained an accuracy of 0.98114\n",
    "#history = model.fit(X_train, Y_train, batch_size = batch_size, epochs = epochs, \n",
    "#          validation_data = (X_val, Y_val), verbose = 2)\n",
    "\n",
    "# With data augmentation to prevent overfitting (accuracy 0.99286)\n",
    "\n",
    "datagen = ImageDataGenerator(\n",
    "        featurewise_center=False,  # set input mean to 0 over the dataset\n",
    "        samplewise_center=False,  # set each sample mean to 0\n",
    "        featurewise_std_normalization=False,  # divide inputs by std of the dataset\n",
    "        samplewise_std_normalization=False,  # divide each input by its std\n",
    "        zca_whitening=False,  # apply ZCA whitening\n",
    "        rotation_range=10,  # randomly rotate images in the range (degrees, 0 to 180)\n",
    "        zoom_range = 0.1, # Randomly zoom image \n",
    "        width_shift_range=0.1,  # randomly shift images horizontally (fraction of total width)\n",
    "        height_shift_range=0.1,  # randomly shift images vertically (fraction of total height)\n",
    "        horizontal_flip=False,  # randomly flip images\n",
    "        vertical_flip=False)  # randomly flip images\n",
    "\n",
    "datagen.fit(X_train)"
   ]
  },
  {
   "cell_type": "code",
   "execution_count": 21,
   "metadata": {
    "scrolled": false
   },
   "outputs": [
    {
     "name": "stdout",
     "output_type": "stream",
     "text": [
      "Epoch 1/30\n",
      "Epoch 1/30\n",
      "4200/439 - 5s - loss: 0.0487 - acc: 0.9807\n",
      "439/439 - 222s - loss: 0.4048 - acc: 0.8711 - val_loss: 0.0613 - val_acc: 0.9807\n",
      "Epoch 2/30\n",
      "Epoch 1/30\n",
      "4200/439 - 4s - loss: 0.0222 - acc: 0.9879\n",
      "439/439 - 230s - loss: 0.1289 - acc: 0.9619 - val_loss: 0.0381 - val_acc: 0.9879\n",
      "Epoch 3/30\n",
      "Epoch 1/30\n",
      "4200/439 - 4s - loss: 0.0408 - acc: 0.9838\n",
      "439/439 - 217s - loss: 0.1009 - acc: 0.9708 - val_loss: 0.0566 - val_acc: 0.9838\n",
      "Epoch 4/30\n",
      "Epoch 1/30\n",
      "4200/439 - 5s - loss: 0.0263 - acc: 0.9902\n",
      "439/439 - 225s - loss: 0.0808 - acc: 0.9758 - val_loss: 0.0296 - val_acc: 0.9902\n",
      "Epoch 5/30\n",
      "Epoch 1/30\n",
      "4200/439 - 4s - loss: 0.0133 - acc: 0.9924\n",
      "439/439 - 243s - loss: 0.0755 - acc: 0.9787 - val_loss: 0.0227 - val_acc: 0.9924\n",
      "Epoch 6/30\n",
      "Epoch 1/30\n",
      "4200/439 - 5s - loss: 0.0173 - acc: 0.9914\n",
      "439/439 - 228s - loss: 0.0705 - acc: 0.9795 - val_loss: 0.0299 - val_acc: 0.9914\n",
      "Epoch 7/30\n",
      "Epoch 1/30\n",
      "4200/439 - 4s - loss: 0.0133 - acc: 0.9921\n",
      "439/439 - 222s - loss: 0.0650 - acc: 0.9811 - val_loss: 0.0249 - val_acc: 0.9921\n",
      "Epoch 8/30\n",
      "Epoch 1/30\n",
      "4200/439 - 4s - loss: 0.0131 - acc: 0.9912\n",
      "\n",
      "Epoch 00008: ReduceLROnPlateau reducing learning rate to 0.0005000000237487257.\n",
      "439/439 - 225s - loss: 0.0656 - acc: 0.9819 - val_loss: 0.0241 - val_acc: 0.9912\n",
      "Epoch 9/30\n",
      "Epoch 1/30\n",
      "4200/439 - 4s - loss: 0.0140 - acc: 0.9945\n",
      "439/439 - 220s - loss: 0.0464 - acc: 0.9859 - val_loss: 0.0235 - val_acc: 0.9945\n",
      "Epoch 10/30\n",
      "Epoch 1/30\n",
      "4200/439 - 4s - loss: 0.0111 - acc: 0.9926\n",
      "439/439 - 199s - loss: 0.0466 - acc: 0.9863 - val_loss: 0.0219 - val_acc: 0.9926\n",
      "Epoch 11/30\n",
      "Epoch 1/30\n",
      "4200/439 - 4s - loss: 0.0126 - acc: 0.9938\n",
      "439/439 - 205s - loss: 0.0452 - acc: 0.9870 - val_loss: 0.0250 - val_acc: 0.9938\n",
      "Epoch 12/30\n",
      "Epoch 1/30\n",
      "4200/439 - 4s - loss: 0.0156 - acc: 0.9948\n",
      "439/439 - 214s - loss: 0.0426 - acc: 0.9877 - val_loss: 0.0207 - val_acc: 0.9948\n",
      "Epoch 13/30\n",
      "Epoch 1/30\n",
      "4200/439 - 4s - loss: 0.0124 - acc: 0.9952\n",
      "439/439 - 231s - loss: 0.0440 - acc: 0.9875 - val_loss: 0.0173 - val_acc: 0.9952\n",
      "Epoch 14/30\n",
      "Epoch 1/30\n",
      "4200/439 - 4s - loss: 0.0157 - acc: 0.9933\n",
      "439/439 - 226s - loss: 0.0416 - acc: 0.9883 - val_loss: 0.0322 - val_acc: 0.9933\n",
      "Epoch 15/30\n",
      "Epoch 1/30\n",
      "4200/439 - 4s - loss: 0.0145 - acc: 0.9926\n",
      "439/439 - 223s - loss: 0.0429 - acc: 0.9881 - val_loss: 0.0264 - val_acc: 0.9926\n",
      "Epoch 16/30\n",
      "Epoch 1/30\n",
      "4200/439 - 6s - loss: 0.0150 - acc: 0.9943\n",
      "\n",
      "Epoch 00016: ReduceLROnPlateau reducing learning rate to 0.0002500000118743628.\n",
      "439/439 - 227s - loss: 0.0408 - acc: 0.9878 - val_loss: 0.0173 - val_acc: 0.9943\n",
      "Epoch 17/30\n",
      "Epoch 1/30\n",
      "4200/439 - 4s - loss: 0.0159 - acc: 0.9945\n",
      "439/439 - 213s - loss: 0.0351 - acc: 0.9895 - val_loss: 0.0168 - val_acc: 0.9945\n",
      "Epoch 18/30\n",
      "Epoch 1/30\n",
      "4200/439 - 4s - loss: 0.0106 - acc: 0.9950\n",
      "439/439 - 199s - loss: 0.0354 - acc: 0.9896 - val_loss: 0.0199 - val_acc: 0.9950\n",
      "Epoch 19/30\n",
      "Epoch 1/30\n",
      "4200/439 - 7s - loss: 0.0111 - acc: 0.9940\n",
      "\n",
      "Epoch 00019: ReduceLROnPlateau reducing learning rate to 0.0001250000059371814.\n",
      "439/439 - 217s - loss: 0.0343 - acc: 0.9898 - val_loss: 0.0218 - val_acc: 0.9940\n",
      "Epoch 20/30\n",
      "Epoch 1/30\n",
      "4200/439 - 4s - loss: 0.0101 - acc: 0.9945\n",
      "439/439 - 194s - loss: 0.0312 - acc: 0.9909 - val_loss: 0.0196 - val_acc: 0.9945\n",
      "Epoch 21/30\n",
      "Epoch 1/30\n",
      "4200/439 - 5s - loss: 0.0094 - acc: 0.9948\n",
      "439/439 - 249s - loss: 0.0303 - acc: 0.9910 - val_loss: 0.0176 - val_acc: 0.9948\n",
      "Epoch 22/30\n",
      "Epoch 1/30\n",
      "4200/439 - 5s - loss: 0.0114 - acc: 0.9950\n",
      "\n",
      "Epoch 00022: ReduceLROnPlateau reducing learning rate to 6.25000029685907e-05.\n",
      "439/439 - 256s - loss: 0.0303 - acc: 0.9914 - val_loss: 0.0171 - val_acc: 0.9950\n",
      "Epoch 23/30\n",
      "Epoch 1/30\n",
      "4200/439 - 5s - loss: 0.0089 - acc: 0.9948\n",
      "439/439 - 250s - loss: 0.0300 - acc: 0.9912 - val_loss: 0.0176 - val_acc: 0.9948\n",
      "Epoch 24/30\n",
      "Epoch 1/30\n",
      "4200/439 - 5s - loss: 0.0096 - acc: 0.9952\n",
      "439/439 - 239s - loss: 0.0277 - acc: 0.9918 - val_loss: 0.0186 - val_acc: 0.9952\n",
      "Epoch 25/30\n",
      "Epoch 1/30\n",
      "4200/439 - 4s - loss: 0.0091 - acc: 0.9952\n",
      "\n",
      "Epoch 00025: ReduceLROnPlateau reducing learning rate to 3.125000148429535e-05.\n",
      "439/439 - 235s - loss: 0.0285 - acc: 0.9913 - val_loss: 0.0169 - val_acc: 0.9952\n",
      "Epoch 26/30\n",
      "Epoch 1/30\n",
      "4200/439 - 4s - loss: 0.0093 - acc: 0.9948\n",
      "439/439 - 230s - loss: 0.0285 - acc: 0.9918 - val_loss: 0.0177 - val_acc: 0.9948\n",
      "Epoch 27/30\n",
      "Epoch 1/30\n",
      "4200/439 - 5s - loss: 0.0092 - acc: 0.9948\n",
      "439/439 - 256s - loss: 0.0288 - acc: 0.9914 - val_loss: 0.0181 - val_acc: 0.9948\n",
      "Epoch 28/30\n",
      "Epoch 1/30\n",
      "4200/439 - 5s - loss: 0.0086 - acc: 0.9950\n",
      "\n",
      "Epoch 00028: ReduceLROnPlateau reducing learning rate to 1.5625000742147677e-05.\n",
      "439/439 - 249s - loss: 0.0280 - acc: 0.9920 - val_loss: 0.0167 - val_acc: 0.9950\n",
      "Epoch 29/30\n",
      "Epoch 1/30\n",
      "4200/439 - 4s - loss: 0.0091 - acc: 0.9950\n",
      "439/439 - 222s - loss: 0.0261 - acc: 0.9922 - val_loss: 0.0174 - val_acc: 0.9950\n",
      "Epoch 30/30\n",
      "Epoch 1/30\n",
      "4200/439 - 5s - loss: 0.0091 - acc: 0.9950\n",
      "439/439 - 230s - loss: 0.0258 - acc: 0.9925 - val_loss: 0.0176 - val_acc: 0.9950\n"
     ]
    }
   ],
   "source": [
    "# Fit the model\n",
    "history = model.fit_generator(datagen.flow(X_train,Y_train, batch_size=batch_size),\n",
    "                              epochs = epochs, validation_data = (X_val,Y_val),\n",
    "                              verbose = 2, steps_per_epoch=X_train.shape[0] // batch_size\n",
    "                              , callbacks=[learning_rate_reduction])"
   ]
  },
  {
   "cell_type": "code",
   "execution_count": 22,
   "metadata": {},
   "outputs": [
    {
     "data": {
      "image/png": "[encoded data removed]",
      "text/plain": [
       "<Figure size 432x288 with 2 Axes>"
      ]
     },
     "metadata": {},
     "output_type": "display_data"
    }
   ],
   "source": [
    "# Plot the loss and accuracy curves for training and validation \n",
    "fig, ax = plt.subplots(2,1)\n",
    "ax[0].plot(history.history['loss'], color='b', label=\"Training loss\")\n",
    "ax[0].plot(history.history['val_loss'], color='r', label=\"validation loss\",axes =ax[0])\n",
    "legend = ax[0].legend(loc='best', shadow=True)\n",
    "\n",
    "ax[1].plot(history.history['acc'], color='b', label=\"Training accuracy\")\n",
    "ax[1].plot(history.history['val_acc'], color='r',label=\"Validation accuracy\")\n",
    "legend = ax[1].legend(loc='best', shadow=True)"
   ]
  },
  {
   "cell_type": "code",
   "execution_count": 23,
   "metadata": {},
   "outputs": [],
   "source": [
    "# predict results\n",
    "results = model.predict(test)\n",
    "\n",
    "# select the indix with the maximum probability\n",
    "results = np.argmax(results,axis = 1)\n",
    "\n",
    "results = pd.Series(results,name=\"Label\")"
   ]
  },
  {
   "cell_type": "code",
   "execution_count": 24,
   "metadata": {},
   "outputs": [],
   "source": [
    "submission = pd.concat([pd.Series(range(1,28001),name = \"ImageId\"),results],axis = 1)\n",
    "\n",
    "submission.to_csv(\"CNN.csv\",index=False)"
   ]
  },
  {
   "cell_type": "code",
   "execution_count": 50,
   "metadata": {},
   "outputs": [
    {
     "data": {
      "text/plain": [
       "array([[[ 0,  1,  2,  3,  4],\n",
       "        [ 5,  6,  7,  8,  9],\n",
       "        [10, 11, 12, 13, 14]],\n",
       "\n",
       "       [[15, 16, 17, 18, 19],\n",
       "        [20, 21, 22, 23, 24],\n",
       "        [25, 26, 27, 28, 29]]])"
      ]
     },
     "execution_count": 50,
     "metadata": {},
     "output_type": "execute_result"
    }
   ],
   "source": [
    "x"
   ]
  },
  {
   "cell_type": "code",
   "execution_count": 49,
   "metadata": {},
   "outputs": [
    {
     "data": {
      "text/plain": [
       "(2, 3, 5)"
      ]
     },
     "execution_count": 49,
     "metadata": {},
     "output_type": "execute_result"
    }
   ],
   "source": [
    "x.shape"
   ]
  },
  {
   "cell_type": "code",
   "execution_count": 61,
   "metadata": {},
   "outputs": [
    {
     "data": {
      "text/plain": [
       "array([[ 4,  9, 14],\n",
       "       [19, 24, 29]])"
      ]
     },
     "execution_count": 61,
     "metadata": {},
     "output_type": "execute_result"
    }
   ],
   "source": [
    "x[:,:,-1]"
   ]
  },
  {
   "cell_type": "code",
   "execution_count": 46,
   "metadata": {},
   "outputs": [
    {
     "data": {
      "text/plain": [
       "array([[ 0,  1,  2,  3,  4,  5,  6],\n",
       "       [14, 15, 16, 17, 18, 19, 20],\n",
       "       [28, 29, 30, 31, 32, 33, 34]])"
      ]
     },
     "execution_count": 46,
     "metadata": {},
     "output_type": "execute_result"
    }
   ],
   "source": [
    "y[np.array([0,2,4])]"
   ]
  },
  {
   "cell_type": "code",
   "execution_count": null,
   "metadata": {},
   "outputs": [],
   "source": []
  }
 ],
 "metadata": {
  "kernelspec": {
   "display_name": "Python 3",
   "language": "python",
   "name": "python3"
  },
  "language_info": {
   "codemirror_mode": {
    "name": "ipython",
    "version": 3
   },
   "file_extension": ".py",
   "mimetype": "text/x-python",
   "name": "python",
   "nbconvert_exporter": "python",
   "pygments_lexer": "ipython3",
   "version": "3.7.4"
  }
 },
 "nbformat": 4,
 "nbformat_minor": 2
}
