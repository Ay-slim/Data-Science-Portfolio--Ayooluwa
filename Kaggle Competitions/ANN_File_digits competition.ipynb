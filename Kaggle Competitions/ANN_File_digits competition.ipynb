{
 "cells": [
  {
   "cell_type": "code",
   "execution_count": 85,
   "metadata": {},
   "outputs": [],
   "source": [
    "import numpy as np\n",
    "import pandas as pd\n",
    "import matplotlib.pyplot as plt\n",
    "import seaborn as sns"
   ]
  },
  {
   "cell_type": "code",
   "execution_count": 86,
   "metadata": {},
   "outputs": [],
   "source": [
    "train_data = pd.read_csv('train.csv')\n",
    "test_data = pd.read_csv('test.csv')\n",
    "X_train = train_data.drop('label', axis = 1).values\n",
    "Y = train_data['label']\n",
    "X_test = test_data.values"
   ]
  },
  {
   "cell_type": "code",
   "execution_count": 87,
   "metadata": {},
   "outputs": [],
   "source": [
    "train_y_list = list(Y)\n",
    "\n",
    "train_y_ = np.zeros((len(train_y_list), 10))\n",
    "\n",
    "for i in range(len(train_y_list)):\n",
    "    train_y_[i, train_y_list[i]] = 1\n",
    "    \n",
    "train_y_DF = pd.DataFrame(train_y_, columns = [0, 1, 2, 3, 4, 5, 6, 7, 8, 9])\n",
    "\n",
    "Y_train=train_y_DF.values"
   ]
  },
  {
   "cell_type": "code",
   "execution_count": 88,
   "metadata": {},
   "outputs": [],
   "source": [
    "from sklearn.preprocessing import MinMaxScaler\n",
    "scaler = MinMaxScaler()\n",
    "scaler.fit(X_train)\n",
    "X_train = scaler.transform(X_train)\n",
    "X_test = scaler.transform(X_test)"
   ]
  },
  {
   "cell_type": "code",
   "execution_count": 107,
   "metadata": {},
   "outputs": [],
   "source": [
    "import tensorflow as tf\n",
    "from tensorflow.keras.models import Sequential\n",
    "from tensorflow.keras.layers import Dense, Activation,Dropout\n",
    "from tensorflow.keras.layers import LeakyReLU"
   ]
  },
  {
   "cell_type": "markdown",
   "metadata": {},
   "source": [
    "###This  model has one hidden layer with 45 neurons"
   ]
  },
  {
   "cell_type": "code",
   "execution_count": 108,
   "metadata": {},
   "outputs": [],
   "source": [
    "model = Sequential()\n",
    "model.add(Dense(units = 784, activation = 'relu'))\n",
    "#model.add(LeakyReLU(alpha=0.1))\n",
    "model.add(Dense(units = 35, activation = 'relu'))\n",
    "#model.add(LeakyReLU(alpha=0.1))\n",
    "#model.add(Dense(units = 45, activation='relu'))\n",
    "model.add(Dense(units = 10, activation = 'sigmoid'))\n",
    "model.compile(loss=tf.keras.losses.CategoricalCrossentropy(), optimizer = 'adam')\n",
    "\n"
   ]
  },
  {
   "cell_type": "code",
   "execution_count": 109,
   "metadata": {},
   "outputs": [
    {
     "name": "stdout",
     "output_type": "stream",
     "text": [
      "Train on 42000 samples\n",
      "Epoch 1/15\n",
      "42000/42000 [==============================] - 12s 285us/sample - loss: 0.2523\n",
      "Epoch 2/15\n",
      "42000/42000 [==============================] - 11s 265us/sample - loss: 0.1007\n",
      "Epoch 3/15\n",
      "42000/42000 [==============================] - 11s 269us/sample - loss: 0.0636\n",
      "Epoch 4/15\n",
      "42000/42000 [==============================] - 12s 297us/sample - loss: 0.0472\n",
      "Epoch 5/15\n",
      "42000/42000 [==============================] - 11s 258us/sample - loss: 0.0360\n",
      "Epoch 6/15\n",
      "42000/42000 [==============================] - 12s 293us/sample - loss: 0.0287\n",
      "Epoch 7/15\n",
      "42000/42000 [==============================] - 11s 252us/sample - loss: 0.0262\n",
      "Epoch 8/15\n",
      "42000/42000 [==============================] - 13s 303us/sample - loss: 0.0210\n",
      "Epoch 9/15\n",
      "42000/42000 [==============================] - 11s 272us/sample - loss: 0.0201\n",
      "Epoch 10/15\n",
      "42000/42000 [==============================] - 10s 244us/sample - loss: 0.0161\n",
      "Epoch 11/15\n",
      "42000/42000 [==============================] - 11s 250us/sample - loss: 0.0165\n",
      "Epoch 12/15\n",
      "42000/42000 [==============================] - 10s 249us/sample - loss: 0.0134\n",
      "Epoch 13/15\n",
      "42000/42000 [==============================] - 12s 277us/sample - loss: 0.0143\n",
      "Epoch 14/15\n",
      "42000/42000 [==============================] - 13s 317us/sample - loss: 0.0114\n",
      "Epoch 15/15\n",
      "42000/42000 [==============================] - 13s 310us/sample - loss: 0.0104\n"
     ]
    },
    {
     "data": {
      "text/plain": [
       "<tensorflow.python.keras.callbacks.History at 0x1f900c85d48>"
      ]
     },
     "execution_count": 109,
     "metadata": {},
     "output_type": "execute_result"
    }
   ],
   "source": [
    "model.fit(x=X_train, y=Y_train, epochs = 15, verbose=1)"
   ]
  },
  {
   "cell_type": "code",
   "execution_count": 110,
   "metadata": {},
   "outputs": [],
   "source": [
    "predictions5 = model.predict_classes(X_test)\n",
    "#predictions_1_HL75_2HL75_EP25 = model.predict_classes(X_test)\n"
   ]
  },
  {
   "cell_type": "code",
   "execution_count": 111,
   "metadata": {},
   "outputs": [
    {
     "data": {
      "text/plain": [
       "9"
      ]
     },
     "execution_count": 111,
     "metadata": {},
     "output_type": "execute_result"
    }
   ],
   "source": [
    "predictions5.max()"
   ]
  },
  {
   "cell_type": "code",
   "execution_count": 113,
   "metadata": {},
   "outputs": [],
   "source": [
    "index=[]\n",
    "for i in range(1,28001):\n",
    "    index.append(i)\n",
    "\n",
    "Submission5 = pd.DataFrame({'ImageId':index,'Label':predictions5})\n",
    "Submission5.set_index('ImageId')\n",
    "Submission5.to_csv('Submission5.csv', index=False)"
   ]
  },
  {
   "cell_type": "code",
   "execution_count": null,
   "metadata": {},
   "outputs": [],
   "source": []
  }
 ],
 "metadata": {
  "kernelspec": {
   "display_name": "Python 3",
   "language": "python",
   "name": "python3"
  },
  "language_info": {
   "codemirror_mode": {
    "name": "ipython",
    "version": 3
   },
   "file_extension": ".py",
   "mimetype": "text/x-python",
   "name": "python",
   "nbconvert_exporter": "python",
   "pygments_lexer": "ipython3",
   "version": "3.7.4"
  }
 },
 "nbformat": 4,
 "nbformat_minor": 2
}
