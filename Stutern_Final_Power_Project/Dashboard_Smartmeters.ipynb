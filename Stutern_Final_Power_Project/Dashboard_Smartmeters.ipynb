{
 "cells": [
  {
   "cell_type": "markdown",
   "metadata": {},
   "source": [
    "##To display this dashboard in your browser, please cd to the directory in which the notebook is contained on your machine and type in  \"Voila Dashboard_Smartmeters --theme=dark\""
   ]
  },
  {
   "cell_type": "code",
   "execution_count": 2,
   "metadata": {},
   "outputs": [
    {
     "name": "stderr",
     "output_type": "stream",
     "text": [
      "Importing plotly failed. Interactive plots will not work.\n"
     ]
    }
   ],
   "source": [
    "from pandas import datetime\n",
    "import datetime as dt\n",
    "import pandas as pd\n",
    "import numpy as np\n",
    "import seaborn as sns\n",
    "import matplotlib.pyplot as plt\n",
    "from math import sqrt\n",
    "import math\n",
    "import pendulum\n",
    "from fbprophet import Prophet\n",
    "import logging\n",
    "import ipywidgets as wg\n",
    "from IPython.display import display\n",
    "import warnings; warnings.simplefilter('ignore')\n",
    "%matplotlib inline"
   ]
  },
  {
   "cell_type": "code",
   "execution_count": 31,
   "metadata": {},
   "outputs": [],
   "source": [
    "df = []\n",
    "for j in range(0,112):\n",
    "    df.append(pd.read_csv(\"/Users/user/Documents/Stutern Task_files/Final_Power_Project/Smart_Meters/daily_dataset/daily_dataset/block_\"+str(j)+\".csv\"))    \n",
    "energy = pd.concat(df, ignore_index = True)"
   ]
  },
  {
   "cell_type": "code",
   "execution_count": 4,
   "metadata": {},
   "outputs": [],
   "source": [
    "def plot_usage (Address, Enquiry_type, Year, Month, Week):\n",
    "    #Address = 'MAC000002'#str(input(\"Please input your adress: \"))\n",
    "    #Enquiry_type = 'Annual'#str(input(\"What kind of summary do you want? Weekly, Monthly, or Annual? \"))\n",
    "    #Year = '13'#str(input(\"Year? 12 13 14: \"))\n",
    "    #Month = '04'#str(input(\"Month? 01 02 03 04 05 06... 12: \"))\n",
    "    #Week = 3#int(input(\"Week? 1 2 3 4 5: \"))\n",
    "    \n",
    "    House_02 = energy[energy['LCLid']==Address]\n",
    "    House_02=House_02[['day', 'energy_sum']]\n",
    "    House_02.day = pd.to_datetime(House_02.day, format = '%Y-%m-%d').dt.date\n",
    "    House_02 = House_02.reset_index()\n",
    "    House_02.drop('index', axis = 1, inplace = True)\n",
    "    House_02['week_number']=0\n",
    "    House_02['day_number']=0\n",
    "    \n",
    "    for j in range(len(House_02.day)):\n",
    "        House_02['week_number'][j] = House_02.day[j].isocalendar()[1]\n",
    "        House_02['day_number'][j] = House_02.day[j].isocalendar()[2]\n",
    "    House_02['month']=House_02['day'].apply(lambda x: x.strftime('%m'))\n",
    "    House_02['week_days']=House_02['day'].apply(lambda x: x.strftime('%A'))\n",
    "    House_02['year']=House_02['day'].apply(lambda x: x.strftime('%y'))\n",
    "    \n",
    "    for j in range(len(House_02)):\n",
    "        dt = pendulum.parse(str(House_02.day[j]))\n",
    "        House_02.week_number[j] = dt.week_of_month\n",
    "        \n",
    "    if Enquiry_type == 'Annual':\n",
    "        sns.set_style('darkgrid')\n",
    "        figsize = (30,5)\n",
    "        sns.barplot(data = House_02, x = 'year', y = 'energy_sum')\n",
    "        plt.ylabel('Electricity Consumed')\n",
    "        \n",
    "    if Enquiry_type == 'Monthly':\n",
    "        sns.set_style('darkgrid')\n",
    "        figsize = (30,5)\n",
    "        sns.barplot(data = House_02[House_02['year']==Year], x = 'month', y = 'energy_sum')\n",
    "        plt.ylabel('Electricity Consumed')\n",
    "        \n",
    "    elif Enquiry_type == 'Weekly':\n",
    "        sns.set_style('darkgrid')\n",
    "        figsize = (30,5)\n",
    "        sns.barplot(data = House_02[House_02['month']==Month], x = 'week_number', y = 'energy_sum')\n",
    "        plt.ylabel('Electricity Consumed')\n",
    "    \n",
    "    elif Enquiry_type == 'Daily':\n",
    "        sns.set_style('darkgrid')\n",
    "        figsize = (30,5)\n",
    "        sns.barplot(data = House_02[House_02['week_number']==Week], x = 'week_days', y = 'energy_sum')\n",
    "        plt.ylabel('Electricity Consumed')"
   ]
  },
  {
   "cell_type": "code",
   "execution_count": 5,
   "metadata": {},
   "outputs": [
    {
     "name": "stdout",
     "output_type": "stream",
     "text": [
      "Hi! Thank you for patronizing us. You can quickly visualize your energy usage here by choosing your address and selecting the appropriate categories in the dropdown menus\n"
     ]
    }
   ],
   "source": [
    "print(\"Hi! Thank you for patronizing us. You can quickly visualize your electricity usage here by choosing your address and selecting the appropriate categories in the dropdown menus\")"
   ]
  },
  {
   "cell_type": "code",
   "execution_count": 6,
   "metadata": {},
   "outputs": [
    {
     "data": {
      "application/vnd.jupyter.widget-view+json": {
       "model_id": "bd28e0ea739f495e81815c5c3dc25bd4",
       "version_major": 2,
       "version_minor": 0
      },
      "text/plain": [
       "interactive(children=(Dropdown(description='Address', options=('MAC000002', 'MAC000246', 'MAC000450', 'MAC0010…"
      ]
     },
     "metadata": {},
     "output_type": "display_data"
    },
    {
     "data": {
      "text/plain": [
       "<function __main__.plot_usage(Address, Enquiry_type, Year, Month, Week)>"
      ]
     },
     "execution_count": 6,
     "metadata": {},
     "output_type": "execute_result"
    }
   ],
   "source": [
    "#plot_usage('MAC000002', 'Annual', '13', '4', 3)\n",
    "Address_s = wg.Dropdown(options = list(energy['LCLid'].unique()), value = 'MAC000002')\n",
    "Enquiry_type_s = wg.Dropdown(options=[('Annual', 'Annual'), ('Monthly', 'Monthly'), ('Weekly', 'Weekly'), ('Daily', 'Daily')], value = 'Annual')\n",
    "Year_s = wg.Dropdown(options = ['12', '13', '14'], value = '13')\n",
    "Month_s = wg.Dropdown(options = ['01', '02', '03', '04', '05', '06', '07', '08', '09', '10', '11', '12'], value = '04')\n",
    "Week_s = wg.Dropdown(options = [1, 2, 3, 4, 5], value = 3)\n",
    "\n",
    "wg.interact(plot_usage, Address=Address_s, Enquiry_type=Enquiry_type_s, Year=Year_s, Month=Month_s,Week=Week_s)"
   ]
  },
  {
   "cell_type": "code",
   "execution_count": 1,
   "metadata": {},
   "outputs": [],
   "source": [
    "# energy_FBP = energy[['day', 'energy_sum']]\n",
    "# energy_FBP.day = pd.to_datetime(energy_FBP.day, format = '%Y-%m-%d').dt.date\n",
    "# energy_FBP.columns = ['ds', 'y']\n",
    "# fb_instance = Prophet()\n",
    "# fb_instance.fit(energy_FBP)\n",
    "\n",
    "\n",
    "# def fb_predict(prediction_size, Address):\n",
    "#     to_predict = energy[energy['LCLid']==Address]\n",
    "#     to_predict = to_predict[['day', 'energy_sum']]\n",
    "#     to_predict.columns = ['ds', 'y']\n",
    "#     future_df = fb_instance.make_future_dataframe(periods = prediction_size)\n",
    "#     forecast = fb_instance.predict(future_df)\n",
    "#     return forecast\n",
    "\n",
    "# prediction_size_s = wg.IntSlider(value = 30, min = 15, max = 45, step = 5)\n",
    "# wg.interact(fb_predict, Address=Address_s, prediction_size = prediction_size_s)"
   ]
  },
  {
   "cell_type": "code",
   "execution_count": null,
   "metadata": {},
   "outputs": [],
   "source": []
  }
 ],
 "metadata": {
  "kernelspec": {
   "display_name": "Python 3",
   "language": "python",
   "name": "python3"
  },
  "language_info": {
   "codemirror_mode": {
    "name": "ipython",
    "version": 3
   },
   "file_extension": ".py",
   "mimetype": "text/x-python",
   "name": "python",
   "nbconvert_exporter": "python",
   "pygments_lexer": "ipython3",
   "version": "3.7.4"
  }
 },
 "nbformat": 4,
 "nbformat_minor": 2
}
