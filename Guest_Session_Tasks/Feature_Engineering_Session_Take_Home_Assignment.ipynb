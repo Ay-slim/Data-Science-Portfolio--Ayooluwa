{
 "cells": [
  {
   "cell_type": "markdown",
   "metadata": {
    "colab_type": "text",
    "id": "ipa2t3LiGnAj"
   },
   "source": [
    "# **Instructions**\n",
    "Please make a copy of this notebook first and then answer the questions in your own copy.\n",
    "\n",
    "**To make a copy of the notebook:**\n",
    "- Click on **`File`**\n",
    "- Click on  **`Save a copy in Drive`**\n",
    "- Work from that saved file.\n",
    "\n",
    "**Another alternative would be to:**\n",
    "- Download the notebook and the data file\n",
    "- Work on it from your computer\n",
    "- Reupload your solution notebook to [Google's Colaboratory](https://colab.research.google.com/) so I can leave comments on it.\n",
    "\n",
    "\n",
    "**Please ensure that you have run all the cells of your submission notebook so I'll be able to see your results without having to run them myself.** \n",
    "\n",
    "Thank you!!!"
   ]
  },
  {
   "cell_type": "markdown",
   "metadata": {
    "colab_type": "text",
    "id": "ft4Zv0Dm3eqR"
   },
   "source": [
    "# **How to get the Data file**\n",
    "The exercises here are based on the Training Titanic dataset which was available on Kaggle [here](https://www.kaggle.com/c/titanic/data) during the Titanic competition. This is possibly one of the most popular dataset available online. The goal of the competiotion was to **Predict those who'd survive on the Titanic**\n",
    "\n",
    "**Note:**\n",
    "If you are getting the data from Kaggle, you'll need to **JOIN** the competition before you can access the data.\n",
    "\n",
    "You can also download it directly from google drive through this [link](https://drive.google.com/file/d/1Eipec9zf0NNiM4WsLqVGqMh_Tr1Ee6Vk/view?usp=sharing)"
   ]
  },
  {
   "cell_type": "markdown",
   "metadata": {
    "colab_type": "text",
    "id": "LMeq_ubR1uVU"
   },
   "source": [
    "# **Import Pandas and read in the CSV File**\n",
    "*You can also do all other library imports here*"
   ]
  },
  {
   "cell_type": "code",
   "execution_count": 1,
   "metadata": {
    "colab": {},
    "colab_type": "code",
    "id": "b_MdPxkJFHvT"
   },
   "outputs": [],
   "source": [
    "import pandas as pd\n",
    "#file_path =\"add the path to the dataset here\"\n",
    "df = pd.read_csv('kaggle_titanic_train_data.csv')"
   ]
  },
  {
   "cell_type": "code",
   "execution_count": 2,
   "metadata": {},
   "outputs": [],
   "source": [
    "import numpy as np"
   ]
  },
  {
   "cell_type": "markdown",
   "metadata": {
    "colab_type": "text",
    "id": "lQ6O1Wmk4sL5"
   },
   "source": [
    "# **Check to see how the data looks like**\n",
    "**Hint:** You need a Pandas function for this\n",
    "\n",
    "***Your solution:***"
   ]
  },
  {
   "cell_type": "code",
   "execution_count": 3,
   "metadata": {
    "colab": {},
    "colab_type": "code",
    "id": "vxs30bff4rfY"
   },
   "outputs": [
    {
     "name": "stdout",
     "output_type": "stream",
     "text": [
      "<class 'pandas.core.frame.DataFrame'>\n",
      "RangeIndex: 891 entries, 0 to 890\n",
      "Data columns (total 12 columns):\n",
      "PassengerId    891 non-null int64\n",
      "Survived       891 non-null int64\n",
      "Pclass         891 non-null int64\n",
      "Name           891 non-null object\n",
      "Sex            891 non-null object\n",
      "Age            714 non-null float64\n",
      "SibSp          891 non-null int64\n",
      "Parch          891 non-null int64\n",
      "Ticket         891 non-null object\n",
      "Fare           891 non-null float64\n",
      "Cabin          204 non-null object\n",
      "Embarked       889 non-null object\n",
      "dtypes: float64(2), int64(5), object(5)\n",
      "memory usage: 83.7+ KB\n"
     ]
    }
   ],
   "source": [
    "# Your solution goes in here\n",
    "df.head()\n",
    "df.info()"
   ]
  },
  {
   "cell_type": "markdown",
   "metadata": {
    "colab_type": "text",
    "id": "lzYI-lgb5F-j"
   },
   "source": [
    "# **Data Cleanup Exercises**\n",
    "Use the appropriate pandas function or method to perform the tasks below"
   ]
  },
  {
   "cell_type": "markdown",
   "metadata": {
    "colab_type": "text",
    "id": "G3jh-Z2z5kiP"
   },
   "source": [
    "## **1. Replace male/female with boolean values**\n",
    "Boolean values are binary values. You can use 1/0 or True/False."
   ]
  },
  {
   "cell_type": "code",
   "execution_count": 4,
   "metadata": {
    "colab": {},
    "colab_type": "code",
    "id": "uEQDElOL5pZk"
   },
   "outputs": [
    {
     "data": {
      "text/html": [
       "<div>\n",
       "<style scoped>\n",
       "    .dataframe tbody tr th:only-of-type {\n",
       "        vertical-align: middle;\n",
       "    }\n",
       "\n",
       "    .dataframe tbody tr th {\n",
       "        vertical-align: top;\n",
       "    }\n",
       "\n",
       "    .dataframe thead th {\n",
       "        text-align: right;\n",
       "    }\n",
       "</style>\n",
       "<table border=\"1\" class=\"dataframe\">\n",
       "  <thead>\n",
       "    <tr style=\"text-align: right;\">\n",
       "      <th></th>\n",
       "      <th>PassengerId</th>\n",
       "      <th>Survived</th>\n",
       "      <th>Pclass</th>\n",
       "      <th>Name</th>\n",
       "      <th>Sex</th>\n",
       "      <th>Age</th>\n",
       "      <th>SibSp</th>\n",
       "      <th>Parch</th>\n",
       "      <th>Ticket</th>\n",
       "      <th>Fare</th>\n",
       "      <th>Cabin</th>\n",
       "      <th>Embarked</th>\n",
       "    </tr>\n",
       "  </thead>\n",
       "  <tbody>\n",
       "    <tr>\n",
       "      <td>0</td>\n",
       "      <td>1</td>\n",
       "      <td>0</td>\n",
       "      <td>3</td>\n",
       "      <td>Braund, Mr. Owen Harris</td>\n",
       "      <td>1</td>\n",
       "      <td>22.0</td>\n",
       "      <td>1</td>\n",
       "      <td>0</td>\n",
       "      <td>A/5 21171</td>\n",
       "      <td>7.2500</td>\n",
       "      <td>NaN</td>\n",
       "      <td>S</td>\n",
       "    </tr>\n",
       "    <tr>\n",
       "      <td>1</td>\n",
       "      <td>2</td>\n",
       "      <td>1</td>\n",
       "      <td>1</td>\n",
       "      <td>Cumings, Mrs. John Bradley (Florence Briggs Th...</td>\n",
       "      <td>0</td>\n",
       "      <td>38.0</td>\n",
       "      <td>1</td>\n",
       "      <td>0</td>\n",
       "      <td>PC 17599</td>\n",
       "      <td>71.2833</td>\n",
       "      <td>C85</td>\n",
       "      <td>C</td>\n",
       "    </tr>\n",
       "    <tr>\n",
       "      <td>2</td>\n",
       "      <td>3</td>\n",
       "      <td>1</td>\n",
       "      <td>3</td>\n",
       "      <td>Heikkinen, Miss. Laina</td>\n",
       "      <td>0</td>\n",
       "      <td>26.0</td>\n",
       "      <td>0</td>\n",
       "      <td>0</td>\n",
       "      <td>STON/O2. 3101282</td>\n",
       "      <td>7.9250</td>\n",
       "      <td>NaN</td>\n",
       "      <td>S</td>\n",
       "    </tr>\n",
       "    <tr>\n",
       "      <td>3</td>\n",
       "      <td>4</td>\n",
       "      <td>1</td>\n",
       "      <td>1</td>\n",
       "      <td>Futrelle, Mrs. Jacques Heath (Lily May Peel)</td>\n",
       "      <td>0</td>\n",
       "      <td>35.0</td>\n",
       "      <td>1</td>\n",
       "      <td>0</td>\n",
       "      <td>113803</td>\n",
       "      <td>53.1000</td>\n",
       "      <td>C123</td>\n",
       "      <td>S</td>\n",
       "    </tr>\n",
       "    <tr>\n",
       "      <td>4</td>\n",
       "      <td>5</td>\n",
       "      <td>0</td>\n",
       "      <td>3</td>\n",
       "      <td>Allen, Mr. William Henry</td>\n",
       "      <td>1</td>\n",
       "      <td>35.0</td>\n",
       "      <td>0</td>\n",
       "      <td>0</td>\n",
       "      <td>373450</td>\n",
       "      <td>8.0500</td>\n",
       "      <td>NaN</td>\n",
       "      <td>S</td>\n",
       "    </tr>\n",
       "  </tbody>\n",
       "</table>\n",
       "</div>"
      ],
      "text/plain": [
       "   PassengerId  Survived  Pclass  \\\n",
       "0            1         0       3   \n",
       "1            2         1       1   \n",
       "2            3         1       3   \n",
       "3            4         1       1   \n",
       "4            5         0       3   \n",
       "\n",
       "                                                Name  Sex   Age  SibSp  Parch  \\\n",
       "0                            Braund, Mr. Owen Harris    1  22.0      1      0   \n",
       "1  Cumings, Mrs. John Bradley (Florence Briggs Th...    0  38.0      1      0   \n",
       "2                             Heikkinen, Miss. Laina    0  26.0      0      0   \n",
       "3       Futrelle, Mrs. Jacques Heath (Lily May Peel)    0  35.0      1      0   \n",
       "4                           Allen, Mr. William Henry    1  35.0      0      0   \n",
       "\n",
       "             Ticket     Fare Cabin Embarked  \n",
       "0         A/5 21171   7.2500   NaN        S  \n",
       "1          PC 17599  71.2833   C85        C  \n",
       "2  STON/O2. 3101282   7.9250   NaN        S  \n",
       "3            113803  53.1000  C123        S  \n",
       "4            373450   8.0500   NaN        S  "
      ]
     },
     "execution_count": 4,
     "metadata": {},
     "output_type": "execute_result"
    }
   ],
   "source": [
    "# Your solution goes in here\n",
    "df['Sex'] = pd.get_dummies(df['Sex'],drop_first=True)\n",
    "df.head()"
   ]
  },
  {
   "cell_type": "markdown",
   "metadata": {
    "colab_type": "text",
    "id": "cUun7MsF6OEC"
   },
   "source": [
    "## **2. Fill any missing age values with the average age of the passengers**"
   ]
  },
  {
   "cell_type": "code",
   "execution_count": 5,
   "metadata": {
    "colab": {},
    "colab_type": "code",
    "id": "itwmneiX6c0-"
   },
   "outputs": [
    {
     "data": {
      "text/plain": [
       "0      22.000000\n",
       "1      38.000000\n",
       "2      26.000000\n",
       "3      35.000000\n",
       "4      35.000000\n",
       "         ...    \n",
       "886    27.000000\n",
       "887    19.000000\n",
       "888    29.699118\n",
       "889    26.000000\n",
       "890    32.000000\n",
       "Name: Age, Length: 891, dtype: float64"
      ]
     },
     "execution_count": 5,
     "metadata": {},
     "output_type": "execute_result"
    }
   ],
   "source": [
    "# Your solution goes in here\n",
    "mean_age = np.mean(df['Age'].dropna())\n",
    "df['Age'].fillna(mean_age)"
   ]
  },
  {
   "cell_type": "markdown",
   "metadata": {
    "colab_type": "text",
    "id": "J187dF7e6Ppn"
   },
   "source": [
    "## **3. Use a Regex expression on the `Ticket` column to get just the ticket numbers attached to the ticket**\n",
    "\n",
    "\n",
    "**`A/5 21171`** should now be represented as **`21171`**"
   ]
  },
  {
   "cell_type": "markdown",
   "metadata": {},
   "source": [
    "## Hi Mercy, \n",
    "\n",
    "I tried using the apply() method here, it didn't work. But I'm sure the function is alright, as it was the same code I used with a for loop in the next column, and that worked just fine. Could you please show me what I'm doing wrong with the apply() method? Thanks"
   ]
  },
  {
   "cell_type": "code",
   "execution_count": 86,
   "metadata": {},
   "outputs": [],
   "source": [
    "def ticket_cleaner(Ticket_column):\n",
    "    for row in Ticket_column:\n",
    "        pk=re.findall(r'\\b\\d+\\b',str(row))\n",
    "        if pk!=[]:\n",
    "            return(pk[-1])\n",
    "        else:\n",
    "            return 0\n",
    "dfs['Ticket']=dfs['Ticket'].apply(ticket_cleaner)\n",
    "        "
   ]
  },
  {
   "cell_type": "markdown",
   "metadata": {},
   "source": [
    "## Here's the for loop that eventually worked"
   ]
  },
  {
   "cell_type": "code",
   "execution_count": 7,
   "metadata": {
    "colab": {},
    "colab_type": "code",
    "id": "oLch_9996d3j",
    "scrolled": false
   },
   "outputs": [
    {
     "data": {
      "text/plain": [
       "0        21171\n",
       "1        17599\n",
       "2      3101282\n",
       "3       113803\n",
       "4       373450\n",
       "        ...   \n",
       "886     211536\n",
       "887     112053\n",
       "888       6607\n",
       "889     111369\n",
       "890     370376\n",
       "Name: Ticket, Length: 891, dtype: int64"
      ]
     },
     "execution_count": 7,
     "metadata": {},
     "output_type": "execute_result"
    }
   ],
   "source": [
    "# Your solution goes in here\n",
    "import re\n",
    "#clone the dataframe\n",
    "dfk=df\n",
    "#create an empty list \n",
    "holder=[] \n",
    "#iterate through the column to extract numbers as strings\n",
    "for row in dfk['Ticket']:\n",
    "    pk=re.findall(r'\\b\\d+\\b', str(row))#regex expression \n",
    "    if pk!=[]:\n",
    "        holder.append(pk[-1]) #extract the last set of numbers \n",
    "    else:\n",
    "        holder.append(0)#handle the cases where there are no numbers\n",
    "holder_int=[]\n",
    "for t in holder:\n",
    "    i=int(t)#convert from string to numbers\n",
    "    holder_int.append(i)    \n",
    "holder_series = pd.Series(holder_int) #convert from list to strings\n",
    "df['Ticket'] = holder_series #attach back to dataframe.\n",
    "df['Ticket']\n",
    "\n",
    "\n",
    "\n"
   ]
  },
  {
   "cell_type": "markdown",
   "metadata": {
    "colab_type": "text",
    "id": "hCPTCgVh6QJL"
   },
   "source": [
    "## **4. Use the Sklearn `Binarizer` on the `Fare` Column**\n",
    "Any value **less than 40** should belong to the **`0`** class, and values **greater than 40** should belong to the **`1`** class.*italicized text*"
   ]
  },
  {
   "cell_type": "code",
   "execution_count": 8,
   "metadata": {},
   "outputs": [],
   "source": [
    "#binarizer wasn't working on pandas dataframe, so I converted to numpy array first\n",
    "temp_fare = df['Fare'].to_numpy()"
   ]
  },
  {
   "cell_type": "code",
   "execution_count": 9,
   "metadata": {
    "colab": {},
    "colab_type": "code",
    "id": "c4pN3p2Y6e4G"
   },
   "outputs": [],
   "source": [
    "# Your solution goes in here\n",
    "from sklearn.preprocessing import Binarizer\n",
    "binarizer = Binarizer(39)\n",
    "df_fare_temp = binarizer.fit_transform(temp_fare.reshape(-1,1))\n",
    "df['Fare']=df_fare_temp"
   ]
  },
  {
   "cell_type": "code",
   "execution_count": 10,
   "metadata": {},
   "outputs": [
    {
     "data": {
      "text/plain": [
       "0      0.0\n",
       "1      1.0\n",
       "2      0.0\n",
       "3      1.0\n",
       "4      0.0\n",
       "      ... \n",
       "886    0.0\n",
       "887    0.0\n",
       "888    0.0\n",
       "889    0.0\n",
       "890    0.0\n",
       "Name: Fare, Length: 891, dtype: float64"
      ]
     },
     "execution_count": 10,
     "metadata": {},
     "output_type": "execute_result"
    }
   ],
   "source": [
    "df['Fare']"
   ]
  },
  {
   "cell_type": "markdown",
   "metadata": {
    "colab_type": "text",
    "id": "fiC-rTst6QC8"
   },
   "source": [
    "## **5. Extract the titles from the names and add it to the dataframe as a new column**\n",
    "Titles in the name column are **Mr., Mrs., Miss.**, etc. Extract the title from the name and add it into a new column. The column should only include Mr, Mrs, Miss, etc.\n",
    "\n",
    "**Hints:** You may need to separate the work into several lines of code. You may need to string together several functions like **apply(), split(), lambda**. Check the python documentation to learn more about each function."
   ]
  },
  {
   "cell_type": "code",
   "execution_count": 12,
   "metadata": {
    "colab": {},
    "colab_type": "code",
    "id": "yuZWn_GX6fnI"
   },
   "outputs": [
    {
     "data": {
      "text/plain": [
       "0        Mr.\n",
       "1       Mrs.\n",
       "2      Miss.\n",
       "3       Mrs.\n",
       "4        Mr.\n",
       "       ...  \n",
       "886     Rev.\n",
       "887    Miss.\n",
       "888    Miss.\n",
       "889      Mr.\n",
       "890      Mr.\n",
       "Name: Titles, Length: 891, dtype: object"
      ]
     },
     "execution_count": 12,
     "metadata": {},
     "output_type": "execute_result"
    }
   ],
   "source": [
    "# Your solution goes in here\n",
    "title_container=[]\n",
    "for k in df['Name']:\n",
    "    full_string = k.split()\n",
    "    title_container.append(full_string[1])\n",
    "    \n",
    "df['Titles']=title_container\n",
    "df['Titles']"
   ]
  },
  {
   "cell_type": "markdown",
   "metadata": {
    "colab_type": "text",
    "id": "v-4s_qWIIS2M"
   },
   "source": [
    "\n",
    "You can refer back to the Notebook from my session [here](https://colab.research.google.com/drive/1dmMKVs2uOJIVuOF3G2RavLnebkwIQ_RN)\n",
    "\n",
    "# **Resources**\n",
    "\n",
    "**Here's a list of some resources that'll help with Feature Engineering:**\n",
    "- [Feature Engineering Made Easy](https://github.com/PacktPublishing/Feature-Engineering-Made-Easy)\n",
    "- [Tips Of Feature Engineering](https://github.com/Pysamlam/Tips-of-Feature-engineering)\n",
    "- [Awesome Feature Engineering for Machine Learning](https://github.com/aikho/awesome-feature-engineering)"
   ]
  },
  {
   "cell_type": "code",
   "execution_count": 0,
   "metadata": {
    "colab": {},
    "colab_type": "code",
    "id": "5qM4R1iG93Qg"
   },
   "outputs": [],
   "source": []
  }
 ],
 "metadata": {
  "colab": {
   "collapsed_sections": [],
   "name": "Feature Engineering Session Take Home Assignment.ipynb",
   "provenance": []
  },
  "kernelspec": {
   "display_name": "Python 3",
   "language": "python",
   "name": "python3"
  },
  "language_info": {
   "codemirror_mode": {
    "name": "ipython",
    "version": 3
   },
   "file_extension": ".py",
   "mimetype": "text/x-python",
   "name": "python",
   "nbconvert_exporter": "python",
   "pygments_lexer": "ipython3",
   "version": "3.7.4"
  }
 },
 "nbformat": 4,
 "nbformat_minor": 1
}
